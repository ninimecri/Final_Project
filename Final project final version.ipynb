{
 "cells": [
  {
   "cell_type": "markdown",
   "metadata": {},
   "source": [
    "# FINAL PROJECT: PART 2. DS_Telecom"
   ]
  },
  {
   "cell_type": "markdown",
   "metadata": {},
   "source": [
    "\n",
    "Made by Nicole Mejía.\n",
    "\n",
    "Telecommunications operator Interconnect would like to be able to forecast its customer churn rate. If a customer is found to be planning to leave, they will be offered promotional codes and special plan options. Interconnect's marketing team has collected some of its customers' personal data, including information about their plans and contracts.\n",
    "\n",
    "## EDA Analysis\n",
    "### Data Loading and Preprocessing"
   ]
  },
  {
   "cell_type": "code",
   "execution_count": 11,
   "metadata": {},
   "outputs": [
    {
     "ename": "ModuleNotFoundError",
     "evalue": "No module named 'tensorflow'",
     "output_type": "error",
     "traceback": [
      "\u001b[31m---------------------------------------------------------------------------\u001b[39m",
      "\u001b[31mModuleNotFoundError\u001b[39m                       Traceback (most recent call last)",
      "\u001b[36mCell\u001b[39m\u001b[36m \u001b[39m\u001b[32mIn[11]\u001b[39m\u001b[32m, line 12\u001b[39m\n\u001b[32m     10\u001b[39m \u001b[38;5;28;01mfrom\u001b[39;00m\u001b[38;5;250m \u001b[39m\u001b[34;01msklearn\u001b[39;00m\u001b[34;01m.\u001b[39;00m\u001b[34;01mmetrics\u001b[39;00m\u001b[38;5;250m \u001b[39m\u001b[38;5;28;01mimport\u001b[39;00m classification_report, accuracy_score, f1_score\n\u001b[32m     11\u001b[39m \u001b[38;5;28;01mfrom\u001b[39;00m\u001b[38;5;250m \u001b[39m\u001b[34;01msklearn\u001b[39;00m\u001b[34;01m.\u001b[39;00m\u001b[34;01mneighbors\u001b[39;00m\u001b[38;5;250m \u001b[39m\u001b[38;5;28;01mimport\u001b[39;00m KNeighborsClassifier\n\u001b[32m---> \u001b[39m\u001b[32m12\u001b[39m \u001b[38;5;28;01mfrom\u001b[39;00m\u001b[38;5;250m \u001b[39m\u001b[34;01mtensorflow\u001b[39;00m\u001b[34;01m.\u001b[39;00m\u001b[34;01mkeras\u001b[39;00m\u001b[34;01m.\u001b[39;00m\u001b[34;01mmodels\u001b[39;00m\u001b[38;5;250m \u001b[39m\u001b[38;5;28;01mimport\u001b[39;00m Sequential\n\u001b[32m     13\u001b[39m \u001b[38;5;28;01mfrom\u001b[39;00m\u001b[38;5;250m \u001b[39m\u001b[34;01mtensorflow\u001b[39;00m\u001b[34;01m.\u001b[39;00m\u001b[34;01mkeras\u001b[39;00m\u001b[34;01m.\u001b[39;00m\u001b[34;01mlayers\u001b[39;00m\u001b[38;5;250m \u001b[39m\u001b[38;5;28;01mimport\u001b[39;00m Dense\n\u001b[32m     14\u001b[39m \u001b[38;5;28;01mfrom\u001b[39;00m\u001b[38;5;250m \u001b[39m\u001b[34;01mtensorflow\u001b[39;00m\u001b[34;01m.\u001b[39;00m\u001b[34;01mkeras\u001b[39;00m\u001b[34;01m.\u001b[39;00m\u001b[34;01moptimizers\u001b[39;00m\u001b[38;5;250m \u001b[39m\u001b[38;5;28;01mimport\u001b[39;00m Adam\n",
      "\u001b[31mModuleNotFoundError\u001b[39m: No module named 'tensorflow'"
     ]
    }
   ],
   "source": [
    "import pandas as pd\n",
    "import numpy as np\n",
    "import matplotlib.pyplot as plt\n",
    "import seaborn as sns\n",
    "\n",
    "from sklearn.model_selection import train_test_split, RandomizedSearchCV\n",
    "from sklearn.model_selection import GridSearchCV\n",
    "from sklearn.preprocessing import OrdinalEncoder, StandardScaler\n",
    "from sklearn.ensemble import GradientBoostingClassifier\n",
    "from sklearn.metrics import classification_report, accuracy_score, f1_score\n",
    "from sklearn.neighbors import KNeighborsClassifier\n",
    "from tensorflow.keras.models import Sequential\n",
    "from tensorflow.keras.layers import Dense\n",
    "from tensorflow.keras.optimizers import Adam\n"
   ]
  },
  {
   "cell_type": "code",
   "execution_count": 20,
   "metadata": {},
   "outputs": [],
   "source": [
    "# Data upload\n",
    "contract = pd.read_csv(r\"C:\\Users\\kiera\\OneDrive\\Documents\\Data Scientist Bootcamp\\proyecto final\\Final_Project\\contract.csv\")\n",
    "personal = pd.read_csv(r\"C:\\Users\\kiera\\OneDrive\\Documents\\Data Scientist Bootcamp\\proyecto final\\Final_Project\\personal.csv\")\n",
    "internet = pd.read_csv(r\"C:\\Users\\kiera\\OneDrive\\Documents\\Data Scientist Bootcamp\\proyecto final\\Final_Project\\internet.csv\")\n",
    "phone = pd.read_csv(r\"C:\\Users\\kiera\\OneDrive\\Documents\\Data Scientist Bootcamp\\proyecto final\\Final_Project\\phone.csv\")"
   ]
  },
  {
   "cell_type": "code",
   "execution_count": 30,
   "metadata": {},
   "outputs": [],
   "source": [
    "# Merge by 'customerID'\n",
    "df_clients = contract.merge(personal, on='customerID', how='left')\n",
    "df_clients = df_clients.merge(internet, on='customerID', how='left')\n",
    "df_clients = df_clients.merge(phone, on='customerID', how='left')"
   ]
  },
  {
   "cell_type": "code",
   "execution_count": 22,
   "metadata": {},
   "outputs": [
    {
     "name": "stdout",
     "output_type": "stream",
     "text": [
      "\n",
      "Dataset duplicates: 0\n"
     ]
    }
   ],
   "source": [
    "# Find DataSet Duplicates\n",
    "print(\"\\nDataset duplicates:\", df_clients.duplicated().sum())"
   ]
  },
  {
   "cell_type": "code",
   "execution_count": 27,
   "metadata": {},
   "outputs": [
    {
     "name": "stdout",
     "output_type": "stream",
     "text": [
      "\n",
      " General information:\n",
      "<class 'pandas.core.frame.DataFrame'>\n",
      "RangeIndex: 7043 entries, 0 to 7042\n",
      "Data columns (total 21 columns):\n",
      " #   Column            Non-Null Count  Dtype         \n",
      "---  ------            --------------  -----         \n",
      " 0   customerID        7043 non-null   object        \n",
      " 1   BeginDate         7043 non-null   datetime64[ns]\n",
      " 2   EndDate           1869 non-null   datetime64[ns]\n",
      " 3   Type              7043 non-null   object        \n",
      " 4   PaperlessBilling  7043 non-null   object        \n",
      " 5   PaymentMethod     7043 non-null   object        \n",
      " 6   MonthlyCharges    7043 non-null   float64       \n",
      " 7   TotalCharges      7043 non-null   float64       \n",
      " 8   gender            7043 non-null   object        \n",
      " 9   SeniorCitizen     7043 non-null   int64         \n",
      " 10  Partner           7043 non-null   object        \n",
      " 11  Dependents        7043 non-null   object        \n",
      " 12  InternetService   7043 non-null   object        \n",
      " 13  OnlineSecurity    7043 non-null   object        \n",
      " 14  OnlineBackup      7043 non-null   object        \n",
      " 15  DeviceProtection  7043 non-null   object        \n",
      " 16  TechSupport       7043 non-null   object        \n",
      " 17  StreamingTV       7043 non-null   object        \n",
      " 18  StreamingMovies   7043 non-null   object        \n",
      " 19  MultipleLines     7043 non-null   object        \n",
      " 20  ContractActive    7043 non-null   int64         \n",
      "dtypes: datetime64[ns](2), float64(2), int64(2), object(15)\n",
      "memory usage: 1.1+ MB\n",
      "None\n",
      "\n",
      "First rows:\n",
      "   customerID  BeginDate    EndDate            Type PaperlessBilling  \\\n",
      "0  7590-VHVEG 2020-01-01        NaT  Month-to-month              Yes   \n",
      "1  5575-GNVDE 2017-04-01        NaT        One year               No   \n",
      "2  3668-QPYBK 2019-10-01 2019-12-01  Month-to-month              Yes   \n",
      "3  7795-CFOCW 2016-05-01        NaT        One year               No   \n",
      "4  9237-HQITU 2019-09-01 2019-11-01  Month-to-month              Yes   \n",
      "\n",
      "               PaymentMethod  MonthlyCharges  TotalCharges  gender  \\\n",
      "0           Electronic check           29.85         29.85  Female   \n",
      "1               Mailed check           56.95       1889.50    Male   \n",
      "2               Mailed check           53.85        108.15    Male   \n",
      "3  Bank transfer (automatic)           42.30       1840.75    Male   \n",
      "4           Electronic check           70.70        151.65  Female   \n",
      "\n",
      "   SeniorCitizen  ... Dependents InternetService OnlineSecurity OnlineBackup  \\\n",
      "0              0  ...         No             DSL             No          Yes   \n",
      "1              0  ...         No             DSL            Yes           No   \n",
      "2              0  ...         No             DSL            Yes          Yes   \n",
      "3              0  ...         No             DSL            Yes           No   \n",
      "4              0  ...         No     Fiber optic             No           No   \n",
      "\n",
      "  DeviceProtection TechSupport StreamingTV StreamingMovies MultipleLines  \\\n",
      "0               No          No          No              No            No   \n",
      "1              Yes          No          No              No            No   \n",
      "2               No          No          No              No            No   \n",
      "3              Yes         Yes          No              No            No   \n",
      "4               No          No          No              No            No   \n",
      "\n",
      "  ContractActive  \n",
      "0              1  \n",
      "1              1  \n",
      "2              0  \n",
      "3              1  \n",
      "4              0  \n",
      "\n",
      "[5 rows x 21 columns]\n"
     ]
    }
   ],
   "source": [
    "# See estructure of dataset\n",
    "print(\"\\n General information:\")\n",
    "print(df_clients.info())\n",
    "\n",
    "# Check top rows\n",
    "print(\"\\nFirst rows:\")\n",
    "print(df_clients.head())"
   ]
  },
  {
   "cell_type": "markdown",
   "metadata": {},
   "source": [
    "Columns of type date and type float were found as objects, so they must first be converted for proper processing. Converting the EndDate column to date will cause people who have not yet completed their contract to appear as NaT (invalid date), so we will create a new column to differentiate these people."
   ]
  },
  {
   "cell_type": "code",
   "execution_count": 42,
   "metadata": {},
   "outputs": [
    {
     "name": "stderr",
     "output_type": "stream",
     "text": [
      "C:\\Users\\kiera\\AppData\\Local\\Temp\\ipykernel_50152\\2521062160.py:4: UserWarning: Could not infer format, so each element will be parsed individually, falling back to `dateutil`. To ensure parsing is consistent and as-expected, please specify a format.\n",
      "  df_clients['EndDate'] = pd.to_datetime(df_clients['EndDate'], errors='coerce')\n"
     ]
    }
   ],
   "source": [
    "# Correction of data types\n",
    "df_clients['BeginDate'] = pd.to_datetime(df_clients['BeginDate'])\n",
    "df_clients['EndDate'] = df_clients['EndDate'].replace(\" \", np.nan)  # Reemplazar espacios vacíos por NaN\n",
    "df_clients['EndDate'] = pd.to_datetime(df_clients['EndDate'], errors='coerce')\n",
    "df_clients['TotalCharges'] = pd.to_numeric(df_clients['TotalCharges'], errors='coerce')"
   ]
  },
  {
   "cell_type": "code",
   "execution_count": 43,
   "metadata": {},
   "outputs": [],
   "source": [
    "# Mark active contracts\n",
    "df_clients['ContractActive'] = df_clients['EndDate'].isna()\n",
    "df_clients['ContractActive'] = df_clients['EndDate'].isna().astype(int)"
   ]
  },
  {
   "cell_type": "code",
   "execution_count": 44,
   "metadata": {},
   "outputs": [],
   "source": [
    "# Fix null values ​​in services\n",
    "df_services = ['InternetService', 'OnlineSecurity', 'OnlineBackup', 'DeviceProtection',\n",
    "               'TechSupport', 'StreamingTV', 'StreamingMovies', 'MultipleLines']\n",
    "df_clients[df_services] = df_clients[df_services].fillna('No')\n",
    "\n",
    "# Fix TotalCharges\n",
    "df_clients['TotalCharges'] = df_clients['TotalCharges'].replace(\" \", \"0\").astype(float)\n",
    "df_clients['TotalCharges'] = df_clients['TotalCharges'].fillna(0).astype(float)"
   ]
  },
  {
   "cell_type": "code",
   "execution_count": 26,
   "metadata": {},
   "outputs": [
    {
     "name": "stdout",
     "output_type": "stream",
     "text": [
      "0\n"
     ]
    }
   ],
   "source": [
    "print(df_clients['TotalCharges'].isna().sum())"
   ]
  },
  {
   "cell_type": "code",
   "execution_count": 45,
   "metadata": {},
   "outputs": [
    {
     "name": "stdout",
     "output_type": "stream",
     "text": [
      "\n",
      "DataFrame after removing unnecessary columns:\n",
      "     EndDate PaperlessBilling  MonthlyCharges  TotalCharges  SeniorCitizen  \\\n",
      "0        NaT              Yes           29.85         29.85              0   \n",
      "1        NaT               No           56.95       1889.50              0   \n",
      "2 2019-12-01              Yes           53.85        108.15              0   \n",
      "3        NaT               No           42.30       1840.75              0   \n",
      "4 2019-11-01              Yes           70.70        151.65              0   \n",
      "\n",
      "  Partner Dependents InternetService OnlineSecurity OnlineBackup  \\\n",
      "0     Yes         No             DSL             No          Yes   \n",
      "1      No         No             DSL            Yes           No   \n",
      "2      No         No             DSL            Yes          Yes   \n",
      "3      No         No             DSL            Yes           No   \n",
      "4      No         No     Fiber optic             No           No   \n",
      "\n",
      "  DeviceProtection TechSupport StreamingTV StreamingMovies MultipleLines  \\\n",
      "0               No          No          No              No            No   \n",
      "1              Yes          No          No              No            No   \n",
      "2               No          No          No              No            No   \n",
      "3              Yes         Yes          No              No            No   \n",
      "4               No          No          No              No            No   \n",
      "\n",
      "   ContractActive  \n",
      "0               1  \n",
      "1               1  \n",
      "2               0  \n",
      "3               1  \n",
      "4               0  \n"
     ]
    }
   ],
   "source": [
    "# Delete unnecessary columns\n",
    "columns_to_drop = ['customerID', 'BeginDate', 'PaymentMethod', 'Type', 'gender']\n",
    "df_clients.drop(columns=columns_to_drop, inplace=True)\n",
    "\n",
    "# View the data frame after removing unnecessary columns\n",
    "print(\"\\nDataFrame after removing unnecessary columns:\")\n",
    "print(df_clients.head())"
   ]
  },
  {
   "cell_type": "markdown",
   "metadata": {},
   "source": [
    "The DataFrame contains information about customers, their contract status, contracted services, and demographic characteristics. It is observed that most customers do not have additional services (such as OnlineSecurity, TechSupport, etc.), which may influence churn. The variable ContractActive reflects whether the contract is active or not, and the column SeniorCitizen shows whether the customer is of legal age, which may be relevant for churn analysis. Furthermore, there is variation in monthly charges (MonthlyCharges) and total charges (TotalCharges), suggesting differences in contracted plans and customer tenure."
   ]
  },
  {
   "cell_type": "code",
   "execution_count": 40,
   "metadata": {},
   "outputs": [
    {
     "name": "stdout",
     "output_type": "stream",
     "text": [
      "There are no null values.\n"
     ]
    }
   ],
   "source": [
    "# View null values\n",
    "def missing_values(df_clients):\n",
    "    missing = df_clients.isnull().sum()\n",
    "    missing = missing[missing > 0].sort_values(ascending=False)\n",
    "    if missing.empty:\n",
    "        print(\"There are no null values.\")\n",
    "    else:\n",
    "        print(\"\\nNull values per column:\")\n",
    "        print(missing)\n",
    "missing_values(df_clients)"
   ]
  },
  {
   "cell_type": "code",
   "execution_count": 46,
   "metadata": {},
   "outputs": [
    {
     "name": "stdout",
     "output_type": "stream",
     "text": [
      "\n",
      "General Description by Column:\n",
      "                             EndDate  MonthlyCharges  TotalCharges  \\\n",
      "count                           1869     7043.000000   7043.000000   \n",
      "mean   2019-11-15 21:31:18.009630976       64.761692   2279.734304   \n",
      "min              2019-10-01 00:00:00       18.250000      0.000000   \n",
      "25%              2019-11-01 00:00:00       35.500000    398.550000   \n",
      "50%              2019-11-01 00:00:00       70.350000   1394.550000   \n",
      "75%              2019-12-01 00:00:00       89.850000   3786.600000   \n",
      "max              2020-01-01 00:00:00      118.750000   8684.800000   \n",
      "std                              NaN       30.090047   2266.794470   \n",
      "\n",
      "       SeniorCitizen  ContractActive  \n",
      "count    7043.000000     7043.000000  \n",
      "mean        0.162147        0.734630  \n",
      "min         0.000000        0.000000  \n",
      "25%         0.000000        0.000000  \n",
      "50%         0.000000        1.000000  \n",
      "75%         0.000000        1.000000  \n",
      "max         1.000000        1.000000  \n",
      "std         0.368612        0.441561  \n",
      "\n",
      "Categorical description:\n",
      "       PaperlessBilling Partner Dependents InternetService OnlineSecurity  \\\n",
      "count              7043    7043       7043            7043           7043   \n",
      "unique                2       2          2               3              2   \n",
      "top                 Yes      No         No     Fiber optic             No   \n",
      "freq               4171    3641       4933            3096           5024   \n",
      "\n",
      "       OnlineBackup DeviceProtection TechSupport StreamingTV StreamingMovies  \\\n",
      "count          7043             7043        7043        7043            7043   \n",
      "unique            2                2           2           2               2   \n",
      "top              No               No          No          No              No   \n",
      "freq           4614             4621        4999        4336            4311   \n",
      "\n",
      "       MultipleLines  \n",
      "count           7043  \n",
      "unique             2  \n",
      "top               No  \n",
      "freq            4072  \n"
     ]
    }
   ],
   "source": [
    "# Description of numerical variables\n",
    "print(\"\\nGeneral Description by Column:\")\n",
    "print(df_clients.describe())\n",
    "\n",
    "# Descripción de variables categóricas\n",
    "print(\"\\nCategorical description:\")\n",
    "print(df_clients.describe(include=['object']))\n"
   ]
  },
  {
   "cell_type": "markdown",
   "metadata": {},
   "source": [
    "### Analysis of Numeric and Categorical Variables\n",
    "\n",
    "**Numeric Variables:**\n",
    "\n",
    "MonthlyCharges: The mean monthly charge is 64.76, with a standard deviation of 30.09, suggesting considerable variability in customer charges. The minimum value is 18.25, and the maximum is 118.75, reflecting a wide range of pricing plans. The median is 70.35, indicating that more than half of customers pay rates above this value.\n",
    "\n",
    "TotalCharges: This variable has a mean value of 2283.30, with a standard deviation of 2266.77. The minimum value is 18.80, and the maximum is 8684.80, suggesting considerable variability in total customer charges. The median, however, is 1397.48, indicating that many customers have relatively low total charges, although some have much higher values.\n",
    "\n",
    "SeniorCitizen: The most frequent value is 0, indicating that the majority of customers are not senior citizens. Only 16% of customers are categorized as \"Senior Citizen.\"\n",
    "\n",
    "ContractActive: The column shows that approximately 73% of customers have an active contract, indicating a higher proportion of customers who are still subscribed to the service.\n",
    "\n",
    "Categorical variables: PaperlessBilling: Over 59% of customers subscribe to paperless billing, suggesting that a majority prefer greener or digital methods.\n",
    "\n",
    "Partner: Approximately 51% of customers have a \"Partner,\" which may be relevant for understanding certain churn patterns, as customers with partners may have different behavioral patterns.\n",
    "\n",
    "Dependents: The majority of customers (70%) do not have dependents, which may influence the cancellation decision, as households without dependents may have more flexibility to cancel services.\n",
    "\n",
    "Internet Service: The majority of customers (over 44%) have fiber optic internet services, while others use DSL, which may indicate a preference for high-speed connections.\n",
    "\n",
    "Online Security, Online Backup, Device Protection, Tech Support, Streaming TV, Streaming Movies, Multiple Lines: These columns reflect that a large portion of customers do not have additional services, which may be related to the decision to cancel or the need for these services. The majority of values ​​for these variables are \"No.\"\n",
    "\n",
    "Taken together, these results suggest that variables such as monthly fees, contract length, and additional services are key factors in analyzing customer churn. Further analysis should focus on understanding how these factors correlate with service cancellation."
   ]
  },
  {
   "cell_type": "markdown",
   "metadata": {},
   "source": [
    "## Chart Analysis"
   ]
  },
  {
   "cell_type": "code",
   "execution_count": 31,
   "metadata": {},
   "outputs": [
    {
     "data": {
      "image/png": "[encoded data removed]",
      "text/plain": [
       "<Figure size 1000x1000 with 2 Axes>"
      ]
     },
     "metadata": {},
     "output_type": "display_data"
    }
   ],
   "source": [
    "# Histograms of numeric variables with labels and improved formatting\n",
    "num_cols = df_clients.select_dtypes(include=['int64', 'float64']).columns\n",
    "fig, axes = plt.subplots(nrows=len(num_cols), ncols=1, figsize=(10, 5 * len(num_cols)))\n",
    "\n",
    "for i, col in enumerate(num_cols):\n",
    "    ax = axes[i] if len(num_cols) > 1 else axes \n",
    "    sns.histplot(df_clients[col], bins=30, kde=True, ax=ax, edgecolor='black')\n",
    "    ax.set_title(f'Distribution of {col}', fontsize=14, fontweight='bold')\n",
    "    ax.set_xlabel(col, fontsize=12)\n",
    "    ax.set_ylabel('Frequency', fontsize=12)\n",
    "    ax.grid(axis='y', linestyle='--', alpha=0.7)\n",
    "\n",
    "plt.tight_layout()\n",
    "plt.show()"
   ]
  },
  {
   "cell_type": "markdown",
   "metadata": {},
   "source": [
    "**General Analysis of the histograms:**\n",
    "\n",
    "- MonthlyCharges peaks at 20 and then becomes more evenly distributed. This value may represent a basic plan or a group of discounted customers. If these customers cancel more, it could be a sign that cheaper plans are not retaining customers well.\n",
    "\n",
    "- TotalCharges is skewed to the right. Many people have low TotalCharges values, suggesting they are new or short-term customers. Customers who cancel may have low TotalCharges.\n",
    "\n",
    "- SeniorCitizen is binary, with a majority of \"0\" (not senior citizens). Since the mean is ~0.16, only ~16% of customers are senior citizens. It may be interesting to analyze whether the cancellation rate varies by age.\n",
    "\n",
    "- ContractActive indicates that ~73% of customers still have an active contract. The remaining 27% represent cancellations. It is important to analyze what characteristics differentiate those who canceled."
   ]
  },
  {
   "cell_type": "code",
   "execution_count": 35,
   "metadata": {},
   "outputs": [
    {
     "data": {
      "image/png": "[encoded data removed]",
      "text/plain": [
       "<Figure size 1200x600 with 1 Axes>"
      ]
     },
     "metadata": {},
     "output_type": "display_data"
    }
   ],
   "source": [
    "# Boxplots\n",
    "plt.figure(figsize=(12, 6))\n",
    "sns.boxplot(data=df_clients.select_dtypes(include=['int64', 'float64']))\n",
    "plt.xticks(rotation=90)\n",
    "plt.title(\"Outlier Detection\")\n",
    "plt.show()"
   ]
  },
  {
   "cell_type": "markdown",
   "metadata": {},
   "source": [
    "In the previous graph, we've identified some outliers using a boxplot for the TotalCharges column. Although this could be an indication that we're handling both individual and corporate customers (which generates high price variability), we've decided that for modeling convenience, we'll treat these outliers with a systematic approach.\n",
    "\n",
    "I'll propose the following treatment for outliers, using a cutoff threshold and the Z-score method to identify and eliminate data that are too far from the normal distribution."
   ]
  },
  {
   "cell_type": "code",
   "execution_count": 36,
   "metadata": {},
   "outputs": [],
   "source": [
    "from scipy import stats\n",
    "\n",
    "# Define cut-off threshold using the interquartile range\n",
    "Q1 = df_clients['TotalCharges'].quantile(0.25)\n",
    "Q3 = df_clients['TotalCharges'].quantile(0.75)\n",
    "IQR = Q3 - Q1\n",
    "lower_bound = Q1 - 1.5 * IQR\n",
    "upper_bound = Q3 + 1.5 * IQR\n",
    "\n",
    "# Filter outliers outside the interquartile range\n",
    "\n",
    "df_clients_cleaned = df_clients[(df_clients['TotalCharges'] >= lower_bound) & (df_clients['TotalCharges'] <= upper_bound)]\n",
    "\n",
    "# Alternatively, use Z-score to detect extreme values\n",
    "z_scores = stats.zscore(df_clients_cleaned.select_dtypes(include=['float64', 'int64']))\n",
    "df_clients_no_outliers = df_clients_cleaned[(np.abs(z_scores) < 3).all(axis=1)]"
   ]
  },
  {
   "cell_type": "code",
   "execution_count": 52,
   "metadata": {},
   "outputs": [],
   "source": [
    "# Dummy\n",
    "df_encoded = pd.get_dummies(df_clients, drop_first=True)\n"
   ]
  },
  {
   "cell_type": "code",
   "execution_count": 61,
   "metadata": {},
   "outputs": [
    {
     "data": {
      "image/png": "[encoded data removed]",
      "text/plain": [
       "<Figure size 800x600 with 2 Axes>"
      ]
     },
     "metadata": {},
     "output_type": "display_data"
    }
   ],
   "source": [
    "# Correlation matrix\n",
    "numeric_df = df_clients[['MonthlyCharges', 'TotalCharges', 'SeniorCitizen', 'ContractActive']]\n",
    "corr_matrix = numeric_df.corr()\n",
    "\n",
    "plt.figure(figsize=(8, 6))\n",
    "sns.heatmap(corr_matrix, annot=True, fmt='.2f', cmap='coolwarm', linewidths=0.5)\n",
    "plt.title(\"Numerical Correlation Matrix\")\n",
    "plt.show()"
   ]
  },
  {
   "cell_type": "markdown",
   "metadata": {},
   "source": [
    "# **Work Plan**\n",
    "After a preliminary analysis of the dataset, I have identified key patterns in the available information that may influence customer churn rates. Based on these findings, we propose the following work plan to structure the study and develop a predictive churn model:\n",
    "\n",
    "- Analysis of Factors Associated with Churn: A detailed exploration of the most influential variables in customer retention will be conducted. In particular, the relationship between churn and the lack of additional services, such as Online Security, Tech Support, and Streaming, which add value to the company, will be evaluated.\n",
    "\n",
    "- Customer Segmentation: Customer profiles will be established based on billing patterns, contract length, and type of service contracted. This will allow us to identify segments most likely to churn and define more effective retention strategies.\n",
    "\n",
    "- Evaluation of Contract Types and Churn Behavior: We will analyze whether customers with monthly contracts have a higher churn rate compared to those with long-term commitments. In addition, the influence of payment methods on customer retention will be studied.\n",
    "\n",
    "Finally, a predictive model will be developed. Based on the previous findings, three classification models will be developed to predict customer churn. Approaches such as logistic regression and more advanced machine learning models will be considered to improve prediction accuracy.\n",
    "\n",
    "This structured approach will allow us to better understand the factors that influence churn and develop effective strategies to reduce it. We welcome your feedback on this plan and welcome any additional adjustments or suggestions."
   ]
  },
  {
   "cell_type": "code",
   "execution_count": null,
   "metadata": {},
   "outputs": [],
   "source": [
    "# Convert 'EndDate' to number of days since service start\n",
    "\n",
    "df_clients['EndDate'] = pd.to_datetime(df_clients['EndDate'], errors='coerce')\n",
    "df_clients['DaysActive'] = (df_clients['EndDate'] - df_clients['EndDate'].min()).dt.days\n",
    "df_clients.drop(columns=['EndDate'], inplace=True)  # Eliminar si no es útil"
   ]
  },
  {
   "cell_type": "code",
   "execution_count": null,
   "metadata": {},
   "outputs": [],
   "source": [
    "# Ensure there are no NaN values ​​after conversion\n",
    "df_clients['DaysActive'].fillna(0, inplace=True)"
   ]
  },
  {
   "cell_type": "code",
   "execution_count": null,
   "metadata": {},
   "outputs": [],
   "source": [
    "categorical_cols = ['PaperlessBilling', 'Partner', 'Dependents', 'InternetService', \n",
    "                    'OnlineSecurity', 'OnlineBackup', 'DeviceProtection', 'TechSupport', \n",
    "                    'StreamingTV', 'StreamingMovies', 'MultipleLines']  \n",
    "\n",
    "numerical_cols = ['MonthlyCharges', 'TotalCharges', 'SeniorCitizen']\n",
    "\n",
    "# Add 'DaysActive' to numeric variables if you choose to use it\n",
    "numerical_cols.append('DaysActive')"
   ]
  },
  {
   "cell_type": "markdown",
   "metadata": {},
   "source": [
    "# Introduction to Part 2 of the Project: Churn Prediction Models\n",
    "\n",
    "In this second phase of the project, our goal is to build and evaluate prediction models that allow us to identify customers who are likely to cancel their contract or service. In other words, the main objective of this analysis is to identify which factors influence contract cancellation or deactivation, also known as churn. This is a crucial part of churn analysis, where we seek to anticipate which customers are likely to deactivate their contract so we can implement retention or intervention strategies.\n",
    "\n",
    "- Target Column: **ContractActive**.\n",
    "\n",
    "The ContractActive column has been selected as our target variable. This column indicates whether a customer has an active contract (value 1) or has canceled their contract (value 0). Because the purpose of the analysis is to predict service deactivation (churn), this column directly reflects the event we wish to predict: contract termination. By predicting whether a customer will cancel their contract or not, we can make informed decisions about how to address churn and improve retention rates.\n",
    "\n",
    "**Selected Models**\n",
    "\n",
    "Since this is a binary classification problem, we selected several models suitable for this type of task:\n",
    "\n",
    "1. Gradient Boosting Classifier (GBC): An ensemble-based model that combines multiple weak decision trees to improve classification accuracy.\n",
    "\n",
    "2. K-Nearest Neighbors (KNN): A model based on the proximity of points in feature space to classify new data.\n",
    "\n",
    "3. Artificial Neural Network (ANN): A model based on a dense neural network with multiple hidden layers to capture complex patterns in the data.\n",
    "\n",
    "When analyzing the distribution of the target variable, we observed a significant imbalance between customers who cancel and those who do not cancel. To address this issue and improve model performance, we applied a manual oversampling strategy, generating synthetic samples of the minority class from existing data. Through these models, we sought not only to predict contract cancellation but also to identify the factors that most significantly contribute to customer churn. This will allow us to focus retention efforts more effectively, optimizing business strategies.\n",
    "\n",
    "With this in mind, we will implement and evaluate these models to continue improving our understanding of churn dynamics and the quality of service offered.\n",
    "\n",
    "## Preprocessing"
   ]
  },
  {
   "cell_type": "code",
   "execution_count": null,
   "metadata": {},
   "outputs": [],
   "source": [
    "# Coding of categorical variables\n",
    "oe = OrdinalEncoder()\n",
    "df_clients[categorical_cols] = oe.fit_transform(df_clients[categorical_cols])\n",
    "\n",
    "scaler = StandardScaler()\n",
    "df_clients[numerical_cols] = scaler.fit_transform(df_clients[numerical_cols])\n",
    "\n",
    "# Define X and y\n",
    "target = 'ContractActive'  # Target variable (contract cancellation)\n",
    "X = df_clients.drop(columns=[target])\n",
    "y = df_clients[target]\n",
    "\n",
    "# Separate into training and test sets\n",
    "X_train, X_test, y_train, y_test = train_test_split(X, y, test_size=0.2, random_state=12345)\n"
   ]
  },
  {
   "cell_type": "markdown",
   "metadata": {},
   "source": [
    "### Hyperparameter Tuning\n",
    "\n",
    "To improve the predictive power of our models, we use RandomizedSearchCV, which allows us to efficiently optimize the hyperparameters of each model without having to evaluate all possible combinations. This process was performed specifically for the Gradient Boosting Classifier, ensuring that the model is better suited to the data and avoiding overfitting.\n",
    "\n",
    "### GradientBoostingClassifier Model"
   ]
  },
  {
   "cell_type": "code",
   "execution_count": null,
   "metadata": {},
   "outputs": [
    {
     "name": "stdout",
     "output_type": "stream",
     "text": [
      "Clase 0 count after oversampling: 1490\n",
      "Clase 1 count after oversampling: 8288\n"
     ]
    }
   ],
   "source": [
    "# Oversampling manual: replicar las muestras de la clase minoritaria\n",
    "# Ver la cantidad de instancias de cada clase\n",
    "class_0_count, class_1_count = y_train.value_counts()\n",
    "\n",
    "# Si la clase minoritaria es la clase 1, replicamos las muestras\n",
    "if class_0_count < class_1_count:\n",
    "    # Sobremuestrear clase minoritaria (clase 0)\n",
    "    class_0_samples = X_train[y_train == 0]\n",
    "    X_train_oversampled = pd.concat([X_train, class_0_samples], axis=0)\n",
    "    y_train_oversampled = pd.concat([y_train, pd.Series([0] * class_1_count)], axis=0)\n",
    "else:\n",
    "    # Sobremuestrear clase minoritaria (clase 1)\n",
    "    class_1_samples = X_train[y_train == 1]\n",
    "    X_train_oversampled = pd.concat([X_train, class_1_samples], axis=0)\n",
    "    y_train_oversampled = pd.concat([y_train, pd.Series([1] * class_0_count)], axis=0)\n",
    "\n",
    "# Verificar el balance después del oversampling\n",
    "print(f\"Clase 0 count after oversampling: {y_train_oversampled.value_counts()[0]}\")\n",
    "print(f\"Clase 1 count after oversampling: {y_train_oversampled.value_counts()[1]}\")"
   ]
  },
  {
   "cell_type": "markdown",
   "metadata": {},
   "source": [
    "Next, GridSearchCV will be used to find the optimal value of k in KNN, using cross-validation with a search in this range (5, 20, 2). Different values ​​for the parameter K (number of neighbors) were tested in K-Nearest Neighbors (KNN), 5 and 6 gave the best result and showed a good balance between precision and recall for the minority class (1)."
   ]
  },
  {
   "cell_type": "code",
   "execution_count": null,
   "metadata": {},
   "outputs": [
    {
     "name": "stdout",
     "output_type": "stream",
     "text": [
      "Mejor número de vecinos: 5\n"
     ]
    }
   ],
   "source": [
    "param_grid = {'n_neighbors': range(5, 20, 2)}\n",
    "knn = KNeighborsClassifier()\n",
    "grid_search = GridSearchCV(knn, param_grid, scoring='f1', cv=5)\n",
    "grid_search.fit(X_train_oversampled, y_train_oversampled)\n",
    "\n",
    "# Best number of neighbors\n",
    "best_n_neighbors = grid_search.best_params_['n_neighbors']\n",
    "print(\"Best number of neighbors:\", best_n_neighbors)"
   ]
  },
  {
   "cell_type": "markdown",
   "metadata": {},
   "source": [
    "Hyperparameter tuning for the Gradient Boosting Classifier (GBC) model was performed using RandomizedSearchCV, an efficient method for searching for the best hyperparameters by randomly selecting combinations within a predefined range."
   ]
  },
  {
   "cell_type": "code",
   "execution_count": null,
   "metadata": {},
   "outputs": [],
   "source": [
    "# Tune hyperparameters for GradientBoostingClassifier\n",
    "param_dist = {\n",
    "    'n_estimators': [50, 100, 150],\n",
    "    'learning_rate': [0.01, 0.1, 0.2],\n",
    "    'max_depth': [3, 5],\n",
    "    'subsample': [0.8, 0.9, 1.0]\n",
    "}"
   ]
  },
  {
   "cell_type": "code",
   "execution_count": null,
   "metadata": {},
   "outputs": [
    {
     "data": {
      "text/plain": [
       "RandomizedSearchCV(cv=3,\n",
       "                   estimator=GradientBoostingClassifier(random_state=12345),\n",
       "                   n_iter=5, n_jobs=-1,\n",
       "                   param_distributions={'learning_rate': [0.01, 0.1, 0.2],\n",
       "                                        'max_depth': [3, 5],\n",
       "                                        'n_estimators': [50, 100, 150],\n",
       "                                        'subsample': [0.8, 0.9, 1.0]},\n",
       "                   random_state=12345, scoring='f1')"
      ]
     },
     "execution_count": 26,
     "metadata": {},
     "output_type": "execute_result"
    }
   ],
   "source": [
    "# Use RandomizedSearchCV to optimize model hyperparameters\n",
    "gbc = GradientBoostingClassifier(random_state=12345)\n",
    "random_search = RandomizedSearchCV(estimator=gbc, param_distributions=param_dist, n_iter=5, cv=3, scoring='f1', n_jobs=-1, random_state=12345)\n",
    "random_search.fit(X_train_oversampled, y_train_oversampled)"
   ]
  },
  {
   "cell_type": "markdown",
   "metadata": {},
   "source": [
    "## Model Application\n",
    "\n",
    "### GradientBoostingClassifier Model"
   ]
  },
  {
   "cell_type": "code",
   "execution_count": null,
   "metadata": {},
   "outputs": [],
   "source": [
    "# Get the best hyperparameters\n",
    "best_gbc = random_search.best_estimator_\n",
    "\n",
    "# Train the model with the best parameters\n",
    "best_gbc.fit(X_train_oversampled, y_train_oversampled)\n",
    "\n",
    "# Evaluating the fitted model on the training and test sets\n",
    "y_train_pred = best_gbc.predict(X_train)\n",
    "y_test_pred = best_gbc.predict(X_test)"
   ]
  },
  {
   "cell_type": "code",
   "execution_count": null,
   "metadata": {},
   "outputs": [
    {
     "name": "stdout",
     "output_type": "stream",
     "text": [
      "Métricas para conjunto de entrenamiento Modelo GBC:\n",
      "F1-score: 0.9702506441789646\n",
      "Classification Report (Entrenamiento):\n",
      "               precision    recall  f1-score   support\n",
      "\n",
      "           0       1.00      0.83      0.91      1490\n",
      "           1       0.94      1.00      0.97      4144\n",
      "\n",
      "    accuracy                           0.95      5634\n",
      "   macro avg       0.97      0.92      0.94      5634\n",
      "weighted avg       0.96      0.95      0.95      5634\n",
      "\n",
      "Métricas para conjunto de prueba Modelo GBC:\n",
      "F1-score: 0.950328022492971\n",
      "Classification Report (Prueba):\n",
      "               precision    recall  f1-score   support\n",
      "\n",
      "           0       0.95      0.76      0.85       379\n",
      "           1       0.92      0.98      0.95      1030\n",
      "\n",
      "    accuracy                           0.92      1409\n",
      "   macro avg       0.93      0.87      0.90      1409\n",
      "weighted avg       0.93      0.92      0.92      1409\n",
      "\n"
     ]
    }
   ],
   "source": [
    "# Metrics for training set\n",
    "print(\"Métricas para conjunto de entrenamiento Modelo GBC:\")\n",
    "print(\"F1-score:\", f1_score(y_train, y_train_pred))\n",
    "print(\"Classification Report (Entrenamiento):\\n\", classification_report(y_train, y_train_pred))\n",
    "\n",
    "# Metrics for test set\n",
    "print(\"Métricas para conjunto de prueba Modelo GBC:\")\n",
    "print(\"F1-score:\", f1_score(y_test, y_test_pred))\n",
    "print(\"Classification Report (Prueba):\\n\", classification_report(y_test, y_test_pred))"
   ]
  },
  {
   "cell_type": "markdown",
   "metadata": {},
   "source": [
    "**Analysis of hyperparameter tuning with oversampling:**\n",
    "\n",
    "**Results for the training set:**\n",
    "\n",
    "- F1-score: 0.97\n",
    "- Accuracy: 0.95\n",
    "\n",
    "The model shows excellent performance on the training set with a high F1-score of 0.97, indicating that the model is well-balanced between precision and recall, especially for class 1 (customers who cancel).\n",
    "\n",
    "The recall for class 1 is perfect (1.00), meaning that the model detects almost all customers who cancel. However, the precision for class 0 (customers who do not cancel) is lower (0.94), suggesting that there are more false positives for this class.\n",
    "\n",
    "**Results for the test set:**\n",
    "\n",
    "- F1-score: 0.95\n",
    "- Accuracy: 0.92\n",
    "\n",
    "Performance on the test set is also solid, with an F1-score of 0.95, showing that the model remains effective for class classification.\n",
    "\n",
    "The recall for class 1 remains high (0.98), but the recall for class 0 is lower (0.76), implying that the model has more difficulty correctly identifying customers who do not cancel.\n",
    "\n",
    "The accuracy and F1-score for class 1 remain very good (0.92 and 0.95, respectively), indicating that the model is well optimized for detecting customers who cancel."
   ]
  },
  {
   "cell_type": "markdown",
   "metadata": {},
   "source": [
    "### KNN Model"
   ]
  },
  {
   "cell_type": "code",
   "execution_count": null,
   "metadata": {},
   "outputs": [
    {
     "name": "stdout",
     "output_type": "stream",
     "text": [
      "Accuracy KNN: 0.9020581973030518\n",
      "F1-score KNN: 0.934720908230842\n",
      "Classification Report KNN:\n",
      "               precision    recall  f1-score   support\n",
      "\n",
      "           0       0.87      0.75      0.80       379\n",
      "           1       0.91      0.96      0.93      1030\n",
      "\n",
      "    accuracy                           0.90      1409\n",
      "   macro avg       0.89      0.85      0.87      1409\n",
      "weighted avg       0.90      0.90      0.90      1409\n",
      "\n"
     ]
    }
   ],
   "source": [
    "# Create KNN model \n",
    "knn_model = KNeighborsClassifier(n_neighbors=4)  # Puedes ajustar el número de vecinos\n",
    "\n",
    "# Train model\n",
    "knn_model.fit(X_train_oversampled, y_train_oversampled)\n",
    "\n",
    "# Hacer predicciones\n",
    "y_pred_knn = knn_model.predict(X_test)\n",
    "\n",
    "# Evaluate model\n",
    "print(\"Accuracy KNN:\", accuracy_score(y_test, y_pred_knn))\n",
    "print(\"F1-score KNN:\", f1_score(y_test, y_pred_knn))\n",
    "print(\"Classification Report KNN:\\n\", classification_report(y_test, y_pred_knn))"
   ]
  },
  {
   "cell_type": "markdown",
   "metadata": {},
   "source": [
    "**KNN Analysis after Hyperparameter Tuning**\n",
    "\n",
    "The K-Nearest Neighbors (KNN) model achieved an accuracy of 90.20% and an F1 score of 93.47%, indicating competitive performance, although slightly lower than the Gradient Boosting model.\n",
    "\n",
    "Key Performance Points:\n",
    "- Precision and Recall:\n",
    "\n",
    "For class 0 (customers who do not churn), the precision is high (91%), but the recall is low (75%), indicating that the model tends to misclassify some customers who do not actually churn.\n",
    "\n",
    "For class 1 (customers who churn), the precision and recall are high (91% and 96%), meaning that the model is quite good at identifying customers who will actually leave the service.\n",
    "\n",
    "- Differences with the previous model (without oversampling): The overall F1 score remains high, showing that class balancing did not significantly affect the quality of the predictions. The difference between the training and test metrics is not drastic, suggesting that the model is not overfitting."
   ]
  },
  {
   "cell_type": "markdown",
   "metadata": {},
   "source": [
    "### Neural Network Model"
   ]
  },
  {
   "cell_type": "code",
   "execution_count": null,
   "metadata": {},
   "outputs": [
    {
     "name": "stdout",
     "output_type": "stream",
     "text": [
      "Epoch 1/20\n"
     ]
    },
    {
     "name": "stderr",
     "output_type": "stream",
     "text": [
      "2025-03-31 13:44:34.895599: I tensorflow/core/platform/cpu_feature_guard.cc:151] This TensorFlow binary is optimized with oneAPI Deep Neural Network Library (oneDNN) to use the following CPU instructions in performance-critical operations:  AVX2 FMA\n",
      "To enable them in other operations, rebuild TensorFlow with the appropriate compiler flags.\n"
     ]
    },
    {
     "name": "stdout",
     "output_type": "stream",
     "text": [
      "306/306 [==============================] - 1s 2ms/step - loss: 0.2522 - accuracy: 0.9118 - val_loss: 0.2252 - val_accuracy: 0.9212\n",
      "Epoch 2/20\n",
      "306/306 [==============================] - 0s 2ms/step - loss: 0.1397 - accuracy: 0.9605 - val_loss: 0.2083 - val_accuracy: 0.9290\n",
      "Epoch 3/20\n",
      "306/306 [==============================] - 0s 2ms/step - loss: 0.1307 - accuracy: 0.9632 - val_loss: 0.2053 - val_accuracy: 0.9290\n",
      "Epoch 4/20\n",
      "306/306 [==============================] - 0s 2ms/step - loss: 0.1285 - accuracy: 0.9633 - val_loss: 0.2086 - val_accuracy: 0.9290\n",
      "Epoch 5/20\n",
      "306/306 [==============================] - 0s 1ms/step - loss: 0.1270 - accuracy: 0.9635 - val_loss: 0.2120 - val_accuracy: 0.9290\n",
      "Epoch 6/20\n",
      "306/306 [==============================] - 0s 2ms/step - loss: 0.1263 - accuracy: 0.9635 - val_loss: 0.1992 - val_accuracy: 0.9290\n",
      "Epoch 7/20\n",
      "306/306 [==============================] - 0s 1ms/step - loss: 0.1256 - accuracy: 0.9638 - val_loss: 0.2005 - val_accuracy: 0.9297\n",
      "Epoch 8/20\n",
      "306/306 [==============================] - 0s 1ms/step - loss: 0.1250 - accuracy: 0.9635 - val_loss: 0.2116 - val_accuracy: 0.9290\n",
      "Epoch 9/20\n",
      "306/306 [==============================] - 0s 2ms/step - loss: 0.1242 - accuracy: 0.9636 - val_loss: 0.2081 - val_accuracy: 0.9290\n",
      "Epoch 10/20\n",
      "306/306 [==============================] - 0s 2ms/step - loss: 0.1243 - accuracy: 0.9636 - val_loss: 0.2033 - val_accuracy: 0.9290\n",
      "Epoch 11/20\n",
      "306/306 [==============================] - 0s 2ms/step - loss: 0.1235 - accuracy: 0.9638 - val_loss: 0.2076 - val_accuracy: 0.9290\n",
      "Epoch 12/20\n",
      "306/306 [==============================] - 0s 1ms/step - loss: 0.1235 - accuracy: 0.9635 - val_loss: 0.2065 - val_accuracy: 0.9290\n",
      "Epoch 13/20\n",
      "306/306 [==============================] - 0s 2ms/step - loss: 0.1231 - accuracy: 0.9637 - val_loss: 0.2055 - val_accuracy: 0.9290\n",
      "Epoch 14/20\n",
      "306/306 [==============================] - 0s 1ms/step - loss: 0.1226 - accuracy: 0.9638 - val_loss: 0.2047 - val_accuracy: 0.9290\n",
      "Epoch 15/20\n",
      "306/306 [==============================] - 0s 1ms/step - loss: 0.1226 - accuracy: 0.9637 - val_loss: 0.2066 - val_accuracy: 0.9290\n",
      "Epoch 16/20\n",
      "306/306 [==============================] - 0s 2ms/step - loss: 0.1223 - accuracy: 0.9636 - val_loss: 0.2133 - val_accuracy: 0.9290\n",
      "Epoch 17/20\n",
      "306/306 [==============================] - 0s 1ms/step - loss: 0.1214 - accuracy: 0.9638 - val_loss: 0.2110 - val_accuracy: 0.9290\n",
      "Epoch 18/20\n",
      "306/306 [==============================] - 0s 1ms/step - loss: 0.1217 - accuracy: 0.9637 - val_loss: 0.2150 - val_accuracy: 0.9290\n",
      "Epoch 19/20\n",
      "306/306 [==============================] - 0s 2ms/step - loss: 0.1215 - accuracy: 0.9639 - val_loss: 0.2082 - val_accuracy: 0.9290\n",
      "Epoch 20/20\n",
      "306/306 [==============================] - 0s 1ms/step - loss: 0.1216 - accuracy: 0.9637 - val_loss: 0.2053 - val_accuracy: 0.9290\n",
      "Accuracy Red Neuronal: 0.8452803406671399\n",
      "F1-score Red Neuronal: 0.887396694214876\n",
      "Classification Report Red Neuronal:\n",
      "               precision    recall  f1-score   support\n",
      "\n",
      "           0       0.66      0.88      0.75       379\n",
      "           1       0.95      0.83      0.89      1030\n",
      "\n",
      "    accuracy                           0.85      1409\n",
      "   macro avg       0.80      0.85      0.82      1409\n",
      "weighted avg       0.87      0.85      0.85      1409\n",
      "\n"
     ]
    }
   ],
   "source": [
    "# Normalization of numerical characteristics\n",
    "scaler = StandardScaler()\n",
    "X_train_scaled = scaler.fit_transform(X_train)\n",
    "X_test_scaled = scaler.transform(X_test)\n",
    "\n",
    "# Create the neural network model\n",
    "model_nn = Sequential()\n",
    "\n",
    "# Input layer (number of inputs = number of features)\n",
    "model_nn.add(Dense(64, input_dim=X_train_scaled.shape[1], activation='relu'))  # Capa oculta\n",
    "\n",
    "#Output layer (1 neuron for binary classification)\n",
    "model_nn.add(Dense(1, activation='sigmoid'))\n",
    "\n",
    "#Model compilation\n",
    "model_nn.compile(optimizer=Adam(), loss='binary_crossentropy', metrics=['accuracy'])\n",
    "\n",
    "# Train model\n",
    "model_nn.fit(X_train_oversampled, y_train_oversampled, epochs=20, batch_size=32, validation_data=(X_test, y_test))\n",
    "\n",
    "# Evaluate model\n",
    "y_pred_nn = (model_nn.predict(X_test_scaled) > 0.5).astype(\"int32\")\n",
    "\n",
    "# Model Evaluation\n",
    "print(\"Accuracy Red Neuronal:\", accuracy_score(y_test, y_pred_nn))\n",
    "print(\"F1-score Red Neuronal:\", f1_score(y_test, y_pred_nn))\n",
    "print(\"Classification Report network model:\\n\", classification_report(y_test, y_pred_nn))\n"
   ]
  },
  {
   "cell_type": "markdown",
   "metadata": {},
   "source": [
    "**Neural Network Model Analysis**\n",
    "\n",
    "The neural network model with oversampling shows a noticeable improvement in neural network performance. The F1 score increases significantly, indicating that the neural network improves overall in terms of its ability to balance precision and recall, becoming more effective at handling both false positives and false negatives.\n",
    "\n",
    "- The neural network model shows good overall performance with an accuracy of 84.52% and an F1 score of 0.88.\n",
    "\n",
    "- The churn class (1) has a good recall (0.83) and high precision (0.95), indicating that the model correctly identifies customers who churn. However, the non-churn class (0) has a much higher recall (0.88) but low precision (0.66), suggesting that the model tends to predict more customers as non-churners, even though many of those cases are incorrect.\n",
    "\n",
    "This result demonstrates that oversampling has a positive impact, especially on problems with unbalanced classes, such as predicting customer churn."
   ]
  },
  {
   "cell_type": "markdown",
   "metadata": {},
   "source": [
    "## Performance Evaluation\n",
    "\n",
    "Each model was trained and evaluated using key metrics such as F1 score, accuracy, and recall, ensuring that the selected model was able to effectively detect customers likely to cancel their contract. Results on the training and test sets were also compared to identify potential overfitting issues and fine-tune the models as needed.\n",
    "\n",
    "Analysis of the three models shows that they are generally effective, but with different characteristics and performance:\n",
    "\n",
    "- Gradient Boosting Classifier (GBC): The GBC model achieved a high F1 score (0.95) and showed a good balance between accuracy and recall, being the model with the best overall performance. Its ability to handle unbalanced classes and provide good predictions of both cancellations and non-cancellations makes it the most robust.\n",
    "\n",
    "- K-Nearest Neighbors (KNN): Although KNN's performance is solid, with an F1 score of 0.94, it has slightly lower recall for the cancellation class and lower precision in the non-cancellation class compared to GBC. However, its performance is still strong.\n",
    "\n",
    "- Neural Network: Although the neural network model shows good performance in terms of recall for the non-cancellation class, its precision in that class is low (0.58), which affects its overall performance. Its F1 score of 0.85 is lower than that of the other two models.\n",
    "\n",
    "Conclusion: The Gradient Boosting Classifier (GBC) is the best model of the three, offering the strongest balance between precision and recall, showing robust performance in both the cancellation and non-cancellation classes."
   ]
  },
  {
   "cell_type": "markdown",
   "metadata": {},
   "source": [
    "## Project Solution Brief\n",
    "\n",
    "Introduction\n",
    "\n",
    "During this project, we analyzed multiple variables related to customer contract cancellation, evaluating factors such as additional services purchased, payment methods, and contract duration. However, after a detailed review and based on the client's specific requirements, we identified that the best way to address the problem was to transform the data and create a new variable called 'ContrActive'.\n",
    "\n",
    "This strategic decision allowed us to simplify the model without compromising accuracy, streamlining the analysis and making it easier to interpret for decision-making. Instead of focusing on multiple combinations of variables in isolation, we consolidated key information into a new feature that better reflected the relationship between contract activity and the likelihood of cancellation.\n",
    "\n",
    "Thanks to this transformation, the developed models achieved better performance in predicting customer churn, enabling clearer and more actionable insights for the client. This approach not only improved the quality of the analysis but also laid the groundwork for future optimizations and training with new datasets.\n",
    "\n",
    "1. Which steps of the plan were taken and which were omitted (explain why)?\n",
    "\n",
    "The project's primary objective was to predict contract churn, so the focus was on building classification models using primarily key categorical variables. Data cleaning and preprocessing, class imbalance management, model selection and tuning, and performance evaluation were successfully completed.\n",
    "However, some initially proposed analyses were not developed in depth:\n",
    "\n",
    "- Evaluation of the relationship between churn and additional services (Online Security, Tech Support, Streaming, etc.): How these services impact customer retention was not analyzed in detail.\n",
    "\n",
    "- Customer segmentation: Although factors such as contract type and payment methods were considered, detailed segmentation based on billing patterns and contract length was not performed.\n",
    "\n",
    "- Evaluation of the impact of contracts and payment methods on churn: Although these factors were mentioned, no in-depth analysis of their influence on customer retention was conducted.\n",
    "\n",
    "Given the knowledge gained in this phase, further training can be conducted incorporating deeper analyses of these factors, which would allow for improved interpretation of results and the definition of more effective retention strategies.\n",
    "\n",
    "2. What difficulties did you encounter and how did you resolve them?\n",
    "\n",
    "- Class imbalance: This was resolved by applying manual oversampling to prevent the model from favoring the majority class.\n",
    "\n",
    "- Overfitting in some models: We adjusted hyperparameters and used techniques such as cross-validation to improve generalization.\n",
    "\n",
    "- Library limitations: Strategies (such as manual oversampling instead of SMOTE) were adapted to overcome environmental restrictions.\n",
    "\n",
    "- Selecting the best model: Key metrics such as F1 score and recall were compared across different models to select the most appropriate one.\n",
    "\n",
    "3. What were some of the key steps in solving the task?\n",
    "\n",
    "- Cleaning and preprocessing: Removing duplicates, handling null values, and feature engineering.\n",
    "\n",
    "- Class balancing: Implementing oversampling to improve predictive power.\n",
    "\n",
    "- Hyperparameter tuning: Using RandomizedSearchCV and GridSearchCV to optimize models.\n",
    "\n",
    "- Model evaluation and comparison: Using metrics such as F1-score, precision, and recall to choose the best model.\n",
    "\n",
    "4. What is your final model and what is its quality score?\n",
    "\n",
    "The final model selected is the Gradient Boosting Classifier (GBC), as it achieved the best balance between precision and recall, achieving an F1-score of 0.95 on the test set. This model showed high predictive power with no signs of overfitting and outperformed KNN and the Neural Network in overall performance.\n",
    "\n",
    "## Final Interpretation: Application of the Models\n",
    "\n",
    "The findings and developed models provide a solid foundation for improving customer retention. With future iterations, additional variables and more specific adjustments could be included to increase the model's accuracy and applicability in real-life settings. Although the model has a high predictive capacity, its true value lies in understanding which factors influence customer churn. To do this, techniques such as:\n",
    "\n",
    "- SHAP values, which allow you to visualize how each variable affects the prediction for each customer.\n",
    "\n",
    "- Feature importance (in Gradient Boosting and other models), which shows which variables have the greatest weight in the model's decision-making.\n",
    "\n",
    "These analyses would help the company design"
   ]
  },
  {
   "cell_type": "code",
   "execution_count": null,
   "metadata": {},
   "outputs": [],
   "source": []
  }
 ],
 "metadata": {
  "ExecuteTimeLog": [
   {
    "duration": 2520,
    "start_time": "2025-03-31T07:16:30.866Z"
   },
   {
    "duration": 64,
    "start_time": "2025-03-31T07:16:33.388Z"
   },
   {
    "duration": 22,
    "start_time": "2025-03-31T07:16:33.453Z"
   },
   {
    "duration": 13,
    "start_time": "2025-03-31T07:16:33.476Z"
   },
   {
    "duration": 17,
    "start_time": "2025-03-31T07:16:33.492Z"
   },
   {
    "duration": 9,
    "start_time": "2025-03-31T07:16:33.510Z"
   },
   {
    "duration": 4,
    "start_time": "2025-03-31T07:16:33.521Z"
   },
   {
    "duration": 10,
    "start_time": "2025-03-31T07:16:33.543Z"
   },
   {
    "duration": 3,
    "start_time": "2025-03-31T07:16:33.554Z"
   },
   {
    "duration": 8,
    "start_time": "2025-03-31T07:16:33.559Z"
   },
   {
    "duration": 8,
    "start_time": "2025-03-31T07:16:33.569Z"
   },
   {
    "duration": 31,
    "start_time": "2025-03-31T07:16:33.578Z"
   },
   {
    "duration": 1320,
    "start_time": "2025-03-31T07:16:33.611Z"
   },
   {
    "duration": 135,
    "start_time": "2025-03-31T07:16:34.934Z"
   },
   {
    "duration": 13,
    "start_time": "2025-03-31T07:16:35.071Z"
   },
   {
    "duration": 275,
    "start_time": "2025-03-31T07:16:35.085Z"
   },
   {
    "duration": 214,
    "start_time": "2025-03-31T07:54:15.434Z"
   },
   {
    "duration": 232,
    "start_time": "2025-03-31T07:54:42.433Z"
   },
   {
    "duration": 30,
    "start_time": "2025-03-31T07:54:46.028Z"
   },
   {
    "duration": 214,
    "start_time": "2025-03-31T07:55:29.186Z"
   },
   {
    "duration": 14,
    "start_time": "2025-03-31T08:05:45.695Z"
   },
   {
    "duration": 3,
    "start_time": "2025-03-31T08:05:46.247Z"
   },
   {
    "duration": 426,
    "start_time": "2025-03-31T08:05:58.795Z"
   },
   {
    "duration": 8,
    "start_time": "2025-03-31T08:06:18.104Z"
   },
   {
    "duration": 3,
    "start_time": "2025-03-31T08:06:18.638Z"
   },
   {
    "duration": 520,
    "start_time": "2025-03-31T08:07:18.797Z"
   },
   {
    "duration": 1208,
    "start_time": "2025-03-31T10:56:50.829Z"
   },
   {
    "duration": 81,
    "start_time": "2025-03-31T10:57:00.414Z"
   },
   {
    "duration": 6297,
    "start_time": "2025-03-31T10:57:08.116Z"
   },
   {
    "duration": 184,
    "start_time": "2025-03-31T11:21:37.961Z"
   },
   {
    "duration": 27,
    "start_time": "2025-03-31T11:22:39.512Z"
   },
   {
    "duration": 4,
    "start_time": "2025-03-31T11:24:17.254Z"
   },
   {
    "duration": 10,
    "start_time": "2025-03-31T11:24:27.407Z"
   },
   {
    "duration": 28,
    "start_time": "2025-03-31T11:24:52.363Z"
   },
   {
    "duration": 3,
    "start_time": "2025-03-31T11:24:56.916Z"
   },
   {
    "duration": 493,
    "start_time": "2025-03-31T11:24:57.665Z"
   },
   {
    "duration": 88,
    "start_time": "2025-03-31T11:25:18.897Z"
   },
   {
    "duration": 226927,
    "start_time": "2025-03-31T11:26:29.032Z"
   },
   {
    "duration": 18,
    "start_time": "2025-03-31T11:33:35.592Z"
   },
   {
    "duration": 3,
    "start_time": "2025-03-31T11:33:43.893Z"
   },
   {
    "duration": 16,
    "start_time": "2025-03-31T11:33:50.761Z"
   },
   {
    "duration": 2,
    "start_time": "2025-03-31T11:34:25.124Z"
   },
   {
    "duration": 9814,
    "start_time": "2025-03-31T11:34:25.837Z"
   },
   {
    "duration": 17,
    "start_time": "2025-03-31T11:34:46.138Z"
   },
   {
    "duration": 1173,
    "start_time": "2025-03-31T11:35:58.878Z"
   },
   {
    "duration": 16,
    "start_time": "2025-03-31T11:36:28.476Z"
   },
   {
    "duration": 19,
    "start_time": "2025-03-31T12:33:55.253Z"
   },
   {
    "duration": 138,
    "start_time": "2025-03-31T12:35:28.960Z"
   },
   {
    "duration": 6158,
    "start_time": "2025-03-31T12:39:37.456Z"
   },
   {
    "duration": 139,
    "start_time": "2025-03-31T12:40:47.021Z"
   },
   {
    "duration": 136,
    "start_time": "2025-03-31T12:41:40.782Z"
   },
   {
    "duration": 130,
    "start_time": "2025-03-31T12:44:41.465Z"
   },
   {
    "duration": 9742,
    "start_time": "2025-03-31T12:53:47.656Z"
   },
   {
    "duration": 2130,
    "start_time": "2025-03-31T13:43:02.087Z"
   },
   {
    "duration": 37,
    "start_time": "2025-03-31T13:43:04.219Z"
   },
   {
    "duration": 18,
    "start_time": "2025-03-31T13:43:04.258Z"
   },
   {
    "duration": 12,
    "start_time": "2025-03-31T13:43:04.279Z"
   },
   {
    "duration": 19,
    "start_time": "2025-03-31T13:43:04.293Z"
   },
   {
    "duration": 29,
    "start_time": "2025-03-31T13:43:04.314Z"
   },
   {
    "duration": 4,
    "start_time": "2025-03-31T13:43:04.344Z"
   },
   {
    "duration": 10,
    "start_time": "2025-03-31T13:43:04.349Z"
   },
   {
    "duration": 3,
    "start_time": "2025-03-31T13:43:04.360Z"
   },
   {
    "duration": 8,
    "start_time": "2025-03-31T13:43:04.366Z"
   },
   {
    "duration": 7,
    "start_time": "2025-03-31T13:43:04.376Z"
   },
   {
    "duration": 60,
    "start_time": "2025-03-31T13:43:04.385Z"
   },
   {
    "duration": 1322,
    "start_time": "2025-03-31T13:43:04.446Z"
   },
   {
    "duration": 134,
    "start_time": "2025-03-31T13:43:05.770Z"
   },
   {
    "duration": 11,
    "start_time": "2025-03-31T13:43:05.906Z"
   },
   {
    "duration": 379,
    "start_time": "2025-03-31T13:43:05.920Z"
   },
   {
    "duration": 9,
    "start_time": "2025-03-31T13:43:06.301Z"
   },
   {
    "duration": 3,
    "start_time": "2025-03-31T13:43:06.312Z"
   },
   {
    "duration": 3,
    "start_time": "2025-03-31T13:43:06.316Z"
   },
   {
    "duration": 51,
    "start_time": "2025-03-31T13:43:06.321Z"
   },
   {
    "duration": 7,
    "start_time": "2025-03-31T13:43:06.374Z"
   },
   {
    "duration": 410,
    "start_time": "2025-03-31T13:43:06.383Z"
   },
   {
    "duration": 0,
    "start_time": "2025-03-31T13:43:06.795Z"
   },
   {
    "duration": 0,
    "start_time": "2025-03-31T13:43:06.796Z"
   },
   {
    "duration": 0,
    "start_time": "2025-03-31T13:43:06.798Z"
   },
   {
    "duration": 0,
    "start_time": "2025-03-31T13:43:06.799Z"
   },
   {
    "duration": 0,
    "start_time": "2025-03-31T13:43:06.801Z"
   },
   {
    "duration": 0,
    "start_time": "2025-03-31T13:43:06.802Z"
   },
   {
    "duration": 4,
    "start_time": "2025-03-31T13:44:06.606Z"
   },
   {
    "duration": 6340,
    "start_time": "2025-03-31T13:44:17.422Z"
   },
   {
    "duration": 3,
    "start_time": "2025-03-31T13:44:23.765Z"
   },
   {
    "duration": 9865,
    "start_time": "2025-03-31T13:44:23.770Z"
   },
   {
    "duration": 1089,
    "start_time": "2025-03-31T13:44:33.637Z"
   },
   {
    "duration": 25,
    "start_time": "2025-03-31T13:44:34.728Z"
   },
   {
    "duration": 127,
    "start_time": "2025-03-31T13:44:34.757Z"
   },
   {
    "duration": 9917,
    "start_time": "2025-03-31T13:44:34.886Z"
   }
  ],
  "kernelspec": {
   "display_name": ".venv",
   "language": "python",
   "name": "python3"
  },
  "language_info": {
   "codemirror_mode": {
    "name": "ipython",
    "version": 3
   },
   "file_extension": ".py",
   "mimetype": "text/x-python",
   "name": "python",
   "nbconvert_exporter": "python",
   "pygments_lexer": "ipython3",
   "version": "3.13.2"
  },
  "toc": {
   "base_numbering": 1,
   "nav_menu": {},
   "number_sections": true,
   "sideBar": true,
   "skip_h1_title": true,
   "title_cell": "Table of Contents",
   "title_sidebar": "Contents",
   "toc_cell": false,
   "toc_position": {},
   "toc_section_display": true,
   "toc_window_display": false
  }
 },
 "nbformat": 4,
 "nbformat_minor": 2
}
